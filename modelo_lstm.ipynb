{
  "nbformat": 4,
  "nbformat_minor": 0,
  "metadata": {
    "colab": {
      "provenance": [],
      "gpuType": "T4"
    },
    "kernelspec": {
      "name": "python3",
      "display_name": "Python 3"
    },
    "language_info": {
      "name": "python"
    },
    "accelerator": "GPU"
  },
  "cells": [
    {
      "cell_type": "code",
      "source": [
        "import pandas as pd\n",
        "from sklearn.preprocessing import MinMaxScaler\n",
        "import torch\n",
        "from torch.utils.data import TensorDataset, DataLoader\n",
        "import numpy as np\n",
        "\n",
        "# Montar o Drive (faça isso só uma vez por sessão)\n",
        "from google.colab import drive\n",
        "drive.mount('/content/drive')\n",
        "\n",
        "# Caminho para o arquivo CSV no Drive\n",
        "caminho_csv = '/content/drive/MyDrive/Dataset/fechamento_acoes_ultimo_ano.csv'\n",
        "\n",
        "# Carregar o CSV\n",
        "df = pd.read_csv(caminho_csv, index_col=0)\n",
        "\n"
      ],
      "metadata": {
        "colab": {
          "base_uri": "https://localhost:8080/"
        },
        "id": "l7cuNEbdsV1K",
        "outputId": "76b43d45-16ce-46bb-d48c-61100ebdc273"
      },
      "execution_count": 7,
      "outputs": [
        {
          "output_type": "stream",
          "name": "stdout",
          "text": [
            "Drive already mounted at /content/drive; to attempt to forcibly remount, call drive.mount(\"/content/drive\", force_remount=True).\n"
          ]
        }
      ]
    },
    {
      "cell_type": "code",
      "source": [
        "# Célula 2 - Carregar e preparar os dados\n",
        "data = df.values  # (num_dias, 5)\n",
        "\n",
        "scaler = MinMaxScaler()\n",
        "data_scaled = scaler.fit_transform(data)\n",
        "\n",
        "def criar_sequencias(data, passos=30):\n",
        "    X, y = [], []\n",
        "    for i in range(len(data) - passos):\n",
        "        X.append(data[i:i+passos])\n",
        "        y.append(data[i+passos])\n",
        "    return np.array(X), np.array(y)\n",
        "\n",
        "passos = 30\n",
        "X, y = criar_sequencias(data_scaled, passos)\n",
        "\n",
        "X_tensor = torch.tensor(X, dtype=torch.float32)\n",
        "y_tensor = torch.tensor(y, dtype=torch.float32)\n",
        "\n",
        "dataset = TensorDataset(X_tensor, y_tensor)\n",
        "train_size = int(0.8 * len(dataset))\n",
        "test_size = len(dataset) - train_size\n",
        "train_dataset, test_dataset = torch.utils.data.random_split(dataset, [train_size, test_size])\n",
        "\n",
        "train_loader = DataLoader(train_dataset, batch_size=32, shuffle=True)\n",
        "test_loader = DataLoader(test_dataset, batch_size=32)\n"
      ],
      "metadata": {
        "id": "EoorlExNwA6X"
      },
      "execution_count": 8,
      "outputs": []
    },
    {
      "cell_type": "code",
      "source": [
        "# Célula 3 - Definição do modelo LSTM\n",
        "class LSTMModel(nn.Module):\n",
        "    def __init__(self, input_size=5, hidden_size=50, num_layers=1):\n",
        "        super(LSTMModel, self).__init__()\n",
        "        self.lstm = nn.LSTM(input_size, hidden_size, num_layers, batch_first=True)\n",
        "        self.linear = nn.Linear(hidden_size, input_size)\n",
        "    def forward(self, x):\n",
        "        out, _ = self.lstm(x)\n",
        "        out = out[:, -1, :]\n",
        "        out = self.linear(out)\n",
        "        return out\n",
        "\n",
        "model = LSTMModel()\n"
      ],
      "metadata": {
        "id": "XEErGBgowDmP"
      },
      "execution_count": 9,
      "outputs": []
    },
    {
      "cell_type": "code",
      "source": [
        "# Célula 4 - Configuração da perda e otimizador\n",
        "criterion = nn.MSELoss()\n",
        "optimizer = optim.Adam(model.parameters(), lr=0.001)\n"
      ],
      "metadata": {
        "id": "1h4FbdgwwGkW"
      },
      "execution_count": 10,
      "outputs": []
    },
    {
      "cell_type": "code",
      "source": [
        "# Célula 5 - Função para treinar o modelo\n",
        "def treinar_modelo(model, optimizer, epochs=10):\n",
        "    model.train()\n",
        "    for epoch in range(epochs):\n",
        "        total_loss = 0\n",
        "        for X_batch, y_batch in train_loader:\n",
        "            optimizer.zero_grad()\n",
        "            output = model(X_batch)\n",
        "            loss = criterion(output, y_batch)\n",
        "            loss.backward()\n",
        "            optimizer.step()\n",
        "            total_loss += loss.item() * X_batch.size(0)\n",
        "        avg_loss = total_loss / len(train_loader.dataset)\n",
        "        print(f\"Epoch {epoch+1}/{epochs} - Loss: {avg_loss:.6f}\")\n"
      ],
      "metadata": {
        "id": "2kG2gtpCwJVO"
      },
      "execution_count": 11,
      "outputs": []
    },
    {
      "cell_type": "code",
      "source": [
        "# Célula 6 - Função para avaliar o modelo\n",
        "def avaliar_modelo(model):\n",
        "    model.eval()\n",
        "    total_loss = 0\n",
        "    with torch.no_grad():\n",
        "        for X_batch, y_batch in test_loader:\n",
        "            output = model(X_batch)\n",
        "            loss = criterion(output, y_batch)\n",
        "            total_loss += loss.item() * X_batch.size(0)\n",
        "    avg_loss = total_loss / len(test_loader.dataset)\n",
        "    print(f\"Loss no teste: {avg_loss:.6f}\")\n",
        "    return avg_loss\n"
      ],
      "metadata": {
        "id": "C91dNUi4wOTs"
      },
      "execution_count": 12,
      "outputs": []
    },
    {
      "cell_type": "code",
      "source": [
        "# Célula 7 - Treinar e avaliar\n",
        "treinar_modelo(model, optimizer, epochs=10)\n",
        "avaliar_modelo(model)\n"
      ],
      "metadata": {
        "colab": {
          "base_uri": "https://localhost:8080/"
        },
        "id": "m3yTdtC_wQtm",
        "outputId": "4bbe1dd3-1b22-4f1c-cc79-bc404e729a53"
      },
      "execution_count": 13,
      "outputs": [
        {
          "output_type": "stream",
          "name": "stdout",
          "text": [
            "Epoch 1/10 - Loss: 0.387471\n",
            "Epoch 2/10 - Loss: 0.317514\n",
            "Epoch 3/10 - Loss: 0.236915\n",
            "Epoch 4/10 - Loss: 0.128592\n",
            "Epoch 5/10 - Loss: 0.042578\n",
            "Epoch 6/10 - Loss: 0.045368\n",
            "Epoch 7/10 - Loss: 0.030371\n",
            "Epoch 8/10 - Loss: 0.032717\n",
            "Epoch 9/10 - Loss: 0.028847\n",
            "Epoch 10/10 - Loss: 0.028569\n",
            "Loss no teste: 0.031427\n"
          ]
        },
        {
          "output_type": "execute_result",
          "data": {
            "text/plain": [
              "0.03142687678337097"
            ]
          },
          "metadata": {},
          "execution_count": 13
        }
      ]
    }
  ]
}