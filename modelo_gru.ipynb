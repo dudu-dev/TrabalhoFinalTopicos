{
  "nbformat": 4,
  "nbformat_minor": 0,
  "metadata": {
    "colab": {
      "provenance": []
    },
    "kernelspec": {
      "name": "python3",
      "display_name": "Python 3"
    },
    "language_info": {
      "name": "python"
    }
  },
  "cells": [
    {
      "cell_type": "code",
      "execution_count": 4,
      "metadata": {
        "colab": {
          "base_uri": "https://localhost:8080/"
        },
        "id": "U73_-b1QzOVr",
        "outputId": "024122fe-6820-4ca7-fc3a-ab075771ea77"
      },
      "outputs": [
        {
          "output_type": "stream",
          "name": "stdout",
          "text": [
            "Drive already mounted at /content/drive; to attempt to forcibly remount, call drive.mount(\"/content/drive\", force_remount=True).\n"
          ]
        }
      ],
      "source": [
        "# Célula 1 - Importações (igual ao anterior)\n",
        "import torch\n",
        "import torch.nn as nn\n",
        "import torch.optim as optim\n",
        "import pandas as pd\n",
        "import numpy as np\n",
        "from sklearn.preprocessing import MinMaxScaler\n",
        "from torch.utils.data import DataLoader, TensorDataset\n",
        "\n",
        "\n",
        "# Montar o Drive (faça isso só uma vez por sessão)\n",
        "from google.colab import drive\n",
        "drive.mount('/content/drive')\n",
        "\n",
        "# Caminho para o arquivo CSV no Drive\n",
        "caminho_csv = '/content/drive/MyDrive/Dataset/fechamento_acoes_ultimo_ano.csv'\n",
        "\n",
        "# Carregar o CSV\n",
        "df = pd.read_csv(caminho_csv, index_col=0)"
      ]
    },
    {
      "cell_type": "code",
      "source": [
        "# Célula 2 - Carregar e preparar dados (igual)\n",
        "data = df.values\n",
        "\n",
        "scaler = MinMaxScaler()\n",
        "data_scaled = scaler.fit_transform(data)\n",
        "\n",
        "def criar_sequencias(data, passos=30):\n",
        "    X, y = [], []\n",
        "    for i in range(len(data) - passos):\n",
        "        X.append(data[i:i+passos])\n",
        "        y.append(data[i+passos])\n",
        "    return np.array(X), np.array(y)\n",
        "\n",
        "passos = 30\n",
        "X, y = criar_sequencias(data_scaled, passos)\n",
        "\n",
        "X_tensor = torch.tensor(X, dtype=torch.float32)\n",
        "y_tensor = torch.tensor(y, dtype=torch.float32)\n",
        "\n",
        "dataset = TensorDataset(X_tensor, y_tensor)\n",
        "train_size = int(0.8 * len(dataset))\n",
        "test_size = len(dataset) - train_size\n",
        "train_dataset, test_dataset = torch.utils.data.random_split(dataset, [train_size, test_size])\n",
        "\n",
        "train_loader = DataLoader(train_dataset, batch_size=32, shuffle=True)\n",
        "test_loader = DataLoader(test_dataset, batch_size=32)\n"
      ],
      "metadata": {
        "id": "DCXNPzH1zggR"
      },
      "execution_count": 5,
      "outputs": []
    },
    {
      "cell_type": "code",
      "source": [
        "# Célula 3 - Definição do modelo GRU\n",
        "class GRUModel(nn.Module):\n",
        "    def __init__(self, input_size=5, hidden_size=50, num_layers=1):\n",
        "        super(GRUModel, self).__init__()\n",
        "        self.gru = nn.GRU(input_size, hidden_size, num_layers, batch_first=True)\n",
        "        self.linear = nn.Linear(hidden_size, input_size)\n",
        "    def forward(self, x):\n",
        "        out, _ = self.gru(x)\n",
        "        out = out[:, -1, :]\n",
        "        out = self.linear(out)\n",
        "        return out\n",
        "\n",
        "model = GRUModel()\n"
      ],
      "metadata": {
        "id": "O1SUoj7tznWg"
      },
      "execution_count": 6,
      "outputs": []
    },
    {
      "cell_type": "code",
      "source": [
        "# Célula 4 - Perda e otimizador\n",
        "criterion = nn.MSELoss()\n",
        "optimizer = optim.Adam(model.parameters(), lr=0.001)\n"
      ],
      "metadata": {
        "id": "CSvSWK6Jzwfv"
      },
      "execution_count": 7,
      "outputs": []
    },
    {
      "cell_type": "code",
      "source": [
        "# Célula 5 - Treinamento\n",
        "def treinar_modelo(model, optimizer, epochs=10):\n",
        "    model.train()\n",
        "    for epoch in range(epochs):\n",
        "        total_loss = 0\n",
        "        for X_batch, y_batch in train_loader:\n",
        "            optimizer.zero_grad()\n",
        "            output = model(X_batch)\n",
        "            loss = criterion(output, y_batch)\n",
        "            loss.backward()\n",
        "            optimizer.step()\n",
        "            total_loss += loss.item() * X_batch.size(0)\n",
        "        avg_loss = total_loss / len(train_loader.dataset)\n",
        "        print(f\"Epoch {epoch+1}/{epochs} - Loss: {avg_loss:.6f}\")\n"
      ],
      "metadata": {
        "id": "XabjiUtIzy-n"
      },
      "execution_count": 8,
      "outputs": []
    },
    {
      "cell_type": "code",
      "source": [
        "# Célula 6 - Avaliação\n",
        "def avaliar_modelo(model):\n",
        "    model.eval()\n",
        "    total_loss = 0\n",
        "    with torch.no_grad():\n",
        "        for X_batch, y_batch in test_loader:\n",
        "            output = model(X_batch)\n",
        "            loss = criterion(output, y_batch)\n",
        "            total_loss += loss.item() * X_batch.size(0)\n",
        "    avg_loss = total_loss / len(test_loader.dataset)\n",
        "    print(f\"Loss no teste: {avg_loss:.6f}\")\n",
        "    return avg_loss\n"
      ],
      "metadata": {
        "id": "SosZKFGtz093"
      },
      "execution_count": 9,
      "outputs": []
    },
    {
      "cell_type": "code",
      "source": [
        "# Célula 7 - Treinar e avaliar\n",
        "treinar_modelo(model, optimizer, epochs=10)\n",
        "avaliar_modelo(model)\n"
      ],
      "metadata": {
        "colab": {
          "base_uri": "https://localhost:8080/"
        },
        "id": "onkelBK9z43H",
        "outputId": "39ae4ea2-d701-436e-ccdf-4f7ba9986e74"
      },
      "execution_count": 10,
      "outputs": [
        {
          "output_type": "stream",
          "name": "stdout",
          "text": [
            "Epoch 1/10 - Loss: 0.324739\n",
            "Epoch 2/10 - Loss: 0.227839\n",
            "Epoch 3/10 - Loss: 0.131802\n",
            "Epoch 4/10 - Loss: 0.055939\n",
            "Epoch 5/10 - Loss: 0.039241\n",
            "Epoch 6/10 - Loss: 0.033773\n",
            "Epoch 7/10 - Loss: 0.030036\n",
            "Epoch 8/10 - Loss: 0.030186\n",
            "Epoch 9/10 - Loss: 0.027349\n",
            "Epoch 10/10 - Loss: 0.026366\n",
            "Loss no teste: 0.027301\n"
          ]
        },
        {
          "output_type": "execute_result",
          "data": {
            "text/plain": [
              "0.027300858023491772"
            ]
          },
          "metadata": {},
          "execution_count": 10
        }
      ]
    }
  ]
}